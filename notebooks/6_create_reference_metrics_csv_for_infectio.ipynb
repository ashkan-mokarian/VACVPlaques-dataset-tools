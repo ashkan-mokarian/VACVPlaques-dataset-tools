{
    "cells": [
        {
            "cell_type": "markdown",
            "metadata": {},
            "source": [
                "# Description\n",
                "This notebook extract useful metrics from the plaques dataset or some part of\n",
                "it. It relies on trackmate results to extract this information. Three metrics\n",
                "are considered: number of infected cells, radius of the plaque, and radial\n",
                "velocity of infected cells. Only considering infected cells, because these are\n",
                "the only cells visible in the microscopy images at hand. Metrics are modeled\n",
                "using a mean and standard deviation for each point in time that there is image\n",
                "for it. Time is in hours post infection (hpi). Results are saved into a csv file\n",
                "to be used as a reference to evaluate simulations in infectio."
            ]
        },
        {
            "cell_type": "markdown",
            "metadata": {},
            "source": [
                "# Implementation"
            ]
        },
        {
            "cell_type": "markdown",
            "metadata": {},
            "source": [
                "## Part 1: choose set of files"
            ]
        },
        {
            "cell_type": "markdown",
            "metadata": {},
            "source": [
                "### For WR virus    \n",
                "\n",
                "Note: **Quick Fix**\n",
                "\n",
                "The dataset needs to be changed to be used here. Because in many of the\n",
                "of the experiments, two or more initial spots are infected and therefore center\n",
                "and radii computations are not correct. As a quick fix for now, I am considering\n",
                "only a few of the experiements that consist only of one plaque. For M061-WR\n",
                "these are: 6, 8, 9, 11, 13, 14."
            ]
        },
        {
            "cell_type": "code",
            "execution_count": 46,
            "metadata": {},
            "outputs": [
                {
                    "data": {
                        "text/plain": [
                            "['8-spots.csv',\n",
                            " '11-spots.csv',\n",
                            " '9-spots.csv',\n",
                            " '13-spots.csv',\n",
                            " '6-spots.csv',\n",
                            " '14-spots.csv']"
                        ]
                    },
                    "execution_count": 46,
                    "metadata": {},
                    "output_type": "execute_result"
                }
            ],
            "source": [
                "import os\n",
                "import pandas as pd\n",
                "import numpy as np\n",
                "\n",
                "dataset_name = 'M061_WR_handpicked'\n",
                "CSV_ROOT = \"../dataset/plaques-ashkan/trackmate_output/dVGF_dF11_viruses/M061\"\n",
                "# include only files in range of 1 to 15 in their names, these are basic WR files\n",
                "# Only consider quick fix files\n",
                "single_plaque_files = [6, 8, 9, 11, 13, 14]\n",
                "csv_files = [f for f in os.listdir(CSV_ROOT) if f.endswith(\".csv\") and int(f.split(\"-\")[0]) in single_plaque_files]\n",
                "csv_files"
            ]
        },
        {
            "cell_type": "markdown",
            "metadata": {},
            "source": [
                "### For dVGF/dF11"
            ]
        },
        {
            "cell_type": "code",
            "execution_count": 35,
            "metadata": {},
            "outputs": [
                {
                    "data": {
                        "text/plain": [
                            "['55-spots.csv',\n",
                            " '60-spots.csv',\n",
                            " '58-spots.csv',\n",
                            " '53-spots.csv',\n",
                            " '46-spots.csv',\n",
                            " '52-spots.csv',\n",
                            " '57-spots.csv',\n",
                            " '51-spots.csv',\n",
                            " '48-spots.csv',\n",
                            " '50-spots.csv',\n",
                            " '49-spots.csv']"
                        ]
                    },
                    "execution_count": 35,
                    "metadata": {},
                    "output_type": "execute_result"
                }
            ],
            "source": [
                "import os\n",
                "import pandas as pd\n",
                "import numpy as np\n",
                "\n",
                "dataset_name = 'M061_dVGFdF11_handpicked'\n",
                "CSV_ROOT = \"../dataset/plaques-ashkan/trackmate_output/dVGF_dF11_viruses/M061\"\n",
                "# include only files in range of 46 to 60 in their names, these are dVGF/dF11 files\n",
                "# Only consider quick fix files\n",
                "single_plaque_files = [46, 48, 49, 50, 51, 52, 53, 55, 57, 58, 60]  # exclude 54, 56, 59, also 47 because first few frames not enough (less than 3) spots\n",
                "csv_files = [f for f in os.listdir(CSV_ROOT) if f.endswith(\".csv\") and int(f.split(\"-\")[0]) in single_plaque_files]\n",
                "csv_files"
            ]
        },
        {
            "cell_type": "markdown",
            "metadata": {},
            "source": [
                "## Part 2: add the time stamps of the time series data"
            ]
        },
        {
            "cell_type": "code",
            "execution_count": 47,
            "metadata": {},
            "outputs": [
                {
                    "name": "stdout",
                    "output_type": "stream",
                    "text": [
                        "         t\n",
                        "0    20.00\n",
                        "1    20.17\n",
                        "2    20.33\n",
                        "3    20.50\n",
                        "4    20.67\n",
                        "..     ...\n",
                        "164  47.33\n",
                        "165  47.50\n",
                        "166  47.67\n",
                        "167  47.83\n",
                        "168  48.00\n",
                        "\n",
                        "[169 rows x 1 columns]\n"
                    ]
                }
            ],
            "source": [
                "# Because the imaging of the dataset starts with 20 h.p.i and ends 48 hpi with\n",
                "# 10 minute intervals\n",
                "time_stamps = [round(x, 2) for x in np.linspace(20.0, 48.0, 169).tolist()]\n",
                "refdf = pd.DataFrame({'t': time_stamps})\n",
                "\n",
                "print(refdf)"
            ]
        },
        {
            "cell_type": "markdown",
            "metadata": {},
            "source": [
                "## Part 3: infected count metrics"
            ]
        },
        {
            "cell_type": "code",
            "execution_count": 48,
            "metadata": {},
            "outputs": [
                {
                    "name": "stdout",
                    "output_type": "stream",
                    "text": [
                        "FRAME\n",
                        "0         7.833333\n",
                        "1         8.500000\n",
                        "2         9.166667\n",
                        "3         9.500000\n",
                        "4         9.666667\n",
                        "          ...     \n",
                        "164    1416.000000\n",
                        "165    1432.666667\n",
                        "166    1450.500000\n",
                        "167    1472.666667\n",
                        "168    1450.333333\n",
                        "Length: 169, dtype: float64 FRAME\n",
                        "0        3.920034\n",
                        "1        4.636809\n",
                        "2        4.708149\n",
                        "3        5.009990\n",
                        "4        5.202563\n",
                        "          ...    \n",
                        "164    428.224707\n",
                        "165    430.744781\n",
                        "166    435.876473\n",
                        "167    445.093099\n",
                        "168    435.813110\n",
                        "Length: 169, dtype: float64\n"
                    ]
                }
            ],
            "source": [
                "unique_track_id_counts = []\n",
                "\n",
                "for file in csv_files:\n",
                "    df = pd.read_csv(os.path.join(CSV_ROOT, file), skiprows=[1, 2, 3], low_memory=False)\n",
                "    unique_counts = df.groupby('FRAME')['TRACK_ID'].nunique()\n",
                "    unique_track_id_counts.append(unique_counts)\n",
                "\n",
                "all_counts_df = pd.concat(unique_track_id_counts, axis=1)\n",
                "\n",
                "# Calculate average and standard deviation for each frame\n",
                "average_counts = all_counts_df.mean(axis=1)\n",
                "std_dev_counts = all_counts_df.std(axis=1)\n",
                "\n",
                "print(average_counts, std_dev_counts)"
            ]
        },
        {
            "cell_type": "code",
            "execution_count": 49,
            "metadata": {},
            "outputs": [
                {
                    "data": {
                        "text/html": [
                            "<div>\n",
                            "<style scoped>\n",
                            "    .dataframe tbody tr th:only-of-type {\n",
                            "        vertical-align: middle;\n",
                            "    }\n",
                            "\n",
                            "    .dataframe tbody tr th {\n",
                            "        vertical-align: top;\n",
                            "    }\n",
                            "\n",
                            "    .dataframe thead th {\n",
                            "        text-align: right;\n",
                            "    }\n",
                            "</style>\n",
                            "<table border=\"1\" class=\"dataframe\">\n",
                            "  <thead>\n",
                            "    <tr style=\"text-align: right;\">\n",
                            "      <th></th>\n",
                            "      <th>t</th>\n",
                            "      <th>inf-count-mean</th>\n",
                            "      <th>inf-count-std</th>\n",
                            "    </tr>\n",
                            "  </thead>\n",
                            "  <tbody>\n",
                            "    <tr>\n",
                            "      <th>0</th>\n",
                            "      <td>20.00</td>\n",
                            "      <td>7.833333</td>\n",
                            "      <td>3.920034</td>\n",
                            "    </tr>\n",
                            "    <tr>\n",
                            "      <th>1</th>\n",
                            "      <td>20.17</td>\n",
                            "      <td>8.500000</td>\n",
                            "      <td>4.636809</td>\n",
                            "    </tr>\n",
                            "    <tr>\n",
                            "      <th>2</th>\n",
                            "      <td>20.33</td>\n",
                            "      <td>9.166667</td>\n",
                            "      <td>4.708149</td>\n",
                            "    </tr>\n",
                            "    <tr>\n",
                            "      <th>3</th>\n",
                            "      <td>20.50</td>\n",
                            "      <td>9.500000</td>\n",
                            "      <td>5.009990</td>\n",
                            "    </tr>\n",
                            "    <tr>\n",
                            "      <th>4</th>\n",
                            "      <td>20.67</td>\n",
                            "      <td>9.666667</td>\n",
                            "      <td>5.202563</td>\n",
                            "    </tr>\n",
                            "    <tr>\n",
                            "      <th>...</th>\n",
                            "      <td>...</td>\n",
                            "      <td>...</td>\n",
                            "      <td>...</td>\n",
                            "    </tr>\n",
                            "    <tr>\n",
                            "      <th>164</th>\n",
                            "      <td>47.33</td>\n",
                            "      <td>1416.000000</td>\n",
                            "      <td>428.224707</td>\n",
                            "    </tr>\n",
                            "    <tr>\n",
                            "      <th>165</th>\n",
                            "      <td>47.50</td>\n",
                            "      <td>1432.666667</td>\n",
                            "      <td>430.744781</td>\n",
                            "    </tr>\n",
                            "    <tr>\n",
                            "      <th>166</th>\n",
                            "      <td>47.67</td>\n",
                            "      <td>1450.500000</td>\n",
                            "      <td>435.876473</td>\n",
                            "    </tr>\n",
                            "    <tr>\n",
                            "      <th>167</th>\n",
                            "      <td>47.83</td>\n",
                            "      <td>1472.666667</td>\n",
                            "      <td>445.093099</td>\n",
                            "    </tr>\n",
                            "    <tr>\n",
                            "      <th>168</th>\n",
                            "      <td>48.00</td>\n",
                            "      <td>1450.333333</td>\n",
                            "      <td>435.813110</td>\n",
                            "    </tr>\n",
                            "  </tbody>\n",
                            "</table>\n",
                            "<p>169 rows × 3 columns</p>\n",
                            "</div>"
                        ],
                        "text/plain": [
                            "         t  inf-count-mean  inf-count-std\n",
                            "0    20.00        7.833333       3.920034\n",
                            "1    20.17        8.500000       4.636809\n",
                            "2    20.33        9.166667       4.708149\n",
                            "3    20.50        9.500000       5.009990\n",
                            "4    20.67        9.666667       5.202563\n",
                            "..     ...             ...            ...\n",
                            "164  47.33     1416.000000     428.224707\n",
                            "165  47.50     1432.666667     430.744781\n",
                            "166  47.67     1450.500000     435.876473\n",
                            "167  47.83     1472.666667     445.093099\n",
                            "168  48.00     1450.333333     435.813110\n",
                            "\n",
                            "[169 rows x 3 columns]"
                        ]
                    },
                    "execution_count": 49,
                    "metadata": {},
                    "output_type": "execute_result"
                }
            ],
            "source": [
                "# Adding count values to refdf\n",
                "refdf['inf-count-mean'] = average_counts\n",
                "refdf['inf-count-std'] = std_dev_counts\n",
                "refdf"
            ]
        },
        {
            "cell_type": "markdown",
            "metadata": {},
            "source": [
                "## Part 4: radius reference metrics"
            ]
        },
        {
            "cell_type": "code",
            "execution_count": 50,
            "metadata": {},
            "outputs": [],
            "source": [
                "from scipy.spatial import ConvexHull\n",
                "\n",
                "def get_convex_radius(points):\n",
                "    if len(points) < 3:\n",
                "        return 0\n",
                "    hull = ConvexHull(points)\n",
                "    boundary_points = points[hull.vertices]\n",
                "    center = np.mean(boundary_points, axis=0)\n",
                "    radii = (boundary_points - center)\n",
                "    radii = np.linalg.norm(radii, axis=1)\n",
                "    return radii.mean()"
            ]
        },
        {
            "cell_type": "code",
            "execution_count": 51,
            "metadata": {},
            "outputs": [],
            "source": [
                "all_radii_stats = []\n",
                "\n",
                "for file in csv_files:\n",
                "    df = pd.read_csv(os.path.join(CSV_ROOT, file), skiprows=[1, 2, 3], low_memory=False)\n",
                "    points_vs_frame = df.groupby('FRAME').apply(lambda x: x[['POSITION_X', 'POSITION_Y']].values)\n",
                "    radii_vs_frame = [get_convex_radius(points) for points in points_vs_frame]\n",
                "    # remove any zeros in there\n",
                "    radii_vs_frame = [r for r in radii_vs_frame if r != 0]\n",
                "    all_radii_stats.append(radii_vs_frame)"
            ]
        },
        {
            "cell_type": "code",
            "execution_count": 52,
            "metadata": {},
            "outputs": [
                {
                    "data": {
                        "text/html": [
                            "<div>\n",
                            "<style scoped>\n",
                            "    .dataframe tbody tr th:only-of-type {\n",
                            "        vertical-align: middle;\n",
                            "    }\n",
                            "\n",
                            "    .dataframe tbody tr th {\n",
                            "        vertical-align: top;\n",
                            "    }\n",
                            "\n",
                            "    .dataframe thead th {\n",
                            "        text-align: right;\n",
                            "    }\n",
                            "</style>\n",
                            "<table border=\"1\" class=\"dataframe\">\n",
                            "  <thead>\n",
                            "    <tr style=\"text-align: right;\">\n",
                            "      <th></th>\n",
                            "      <th>t</th>\n",
                            "      <th>inf-count-mean</th>\n",
                            "      <th>inf-count-std</th>\n",
                            "      <th>radius-mean(um)</th>\n",
                            "      <th>radius-std(um)</th>\n",
                            "    </tr>\n",
                            "  </thead>\n",
                            "  <tbody>\n",
                            "    <tr>\n",
                            "      <th>0</th>\n",
                            "      <td>20.00</td>\n",
                            "      <td>7.833333</td>\n",
                            "      <td>3.920034</td>\n",
                            "      <td>174.592976</td>\n",
                            "      <td>56.883914</td>\n",
                            "    </tr>\n",
                            "    <tr>\n",
                            "      <th>1</th>\n",
                            "      <td>20.17</td>\n",
                            "      <td>8.500000</td>\n",
                            "      <td>4.636809</td>\n",
                            "      <td>180.940681</td>\n",
                            "      <td>62.234864</td>\n",
                            "    </tr>\n",
                            "    <tr>\n",
                            "      <th>2</th>\n",
                            "      <td>20.33</td>\n",
                            "      <td>9.166667</td>\n",
                            "      <td>4.708149</td>\n",
                            "      <td>192.655702</td>\n",
                            "      <td>75.722809</td>\n",
                            "    </tr>\n",
                            "    <tr>\n",
                            "      <th>3</th>\n",
                            "      <td>20.50</td>\n",
                            "      <td>9.500000</td>\n",
                            "      <td>5.009990</td>\n",
                            "      <td>201.052841</td>\n",
                            "      <td>75.361281</td>\n",
                            "    </tr>\n",
                            "    <tr>\n",
                            "      <th>4</th>\n",
                            "      <td>20.67</td>\n",
                            "      <td>9.666667</td>\n",
                            "      <td>5.202563</td>\n",
                            "      <td>203.102415</td>\n",
                            "      <td>77.412856</td>\n",
                            "    </tr>\n",
                            "    <tr>\n",
                            "      <th>...</th>\n",
                            "      <td>...</td>\n",
                            "      <td>...</td>\n",
                            "      <td>...</td>\n",
                            "      <td>...</td>\n",
                            "      <td>...</td>\n",
                            "    </tr>\n",
                            "    <tr>\n",
                            "      <th>164</th>\n",
                            "      <td>47.33</td>\n",
                            "      <td>1416.000000</td>\n",
                            "      <td>428.224707</td>\n",
                            "      <td>2668.476926</td>\n",
                            "      <td>309.684605</td>\n",
                            "    </tr>\n",
                            "    <tr>\n",
                            "      <th>165</th>\n",
                            "      <td>47.50</td>\n",
                            "      <td>1432.666667</td>\n",
                            "      <td>430.744781</td>\n",
                            "      <td>2782.897672</td>\n",
                            "      <td>233.847700</td>\n",
                            "    </tr>\n",
                            "    <tr>\n",
                            "      <th>166</th>\n",
                            "      <td>47.67</td>\n",
                            "      <td>1450.500000</td>\n",
                            "      <td>435.876473</td>\n",
                            "      <td>2841.379969</td>\n",
                            "      <td>215.759468</td>\n",
                            "    </tr>\n",
                            "    <tr>\n",
                            "      <th>167</th>\n",
                            "      <td>47.83</td>\n",
                            "      <td>1472.666667</td>\n",
                            "      <td>445.093099</td>\n",
                            "      <td>2841.155109</td>\n",
                            "      <td>207.897807</td>\n",
                            "    </tr>\n",
                            "    <tr>\n",
                            "      <th>168</th>\n",
                            "      <td>48.00</td>\n",
                            "      <td>1450.333333</td>\n",
                            "      <td>435.813110</td>\n",
                            "      <td>2855.060483</td>\n",
                            "      <td>218.530597</td>\n",
                            "    </tr>\n",
                            "  </tbody>\n",
                            "</table>\n",
                            "<p>169 rows × 5 columns</p>\n",
                            "</div>"
                        ],
                        "text/plain": [
                            "         t  inf-count-mean  inf-count-std  radius-mean(um)  radius-std(um)\n",
                            "0    20.00        7.833333       3.920034       174.592976       56.883914\n",
                            "1    20.17        8.500000       4.636809       180.940681       62.234864\n",
                            "2    20.33        9.166667       4.708149       192.655702       75.722809\n",
                            "3    20.50        9.500000       5.009990       201.052841       75.361281\n",
                            "4    20.67        9.666667       5.202563       203.102415       77.412856\n",
                            "..     ...             ...            ...              ...             ...\n",
                            "164  47.33     1416.000000     428.224707      2668.476926      309.684605\n",
                            "165  47.50     1432.666667     430.744781      2782.897672      233.847700\n",
                            "166  47.67     1450.500000     435.876473      2841.379969      215.759468\n",
                            "167  47.83     1472.666667     445.093099      2841.155109      207.897807\n",
                            "168  48.00     1450.333333     435.813110      2855.060483      218.530597\n",
                            "\n",
                            "[169 rows x 5 columns]"
                        ]
                    },
                    "execution_count": 52,
                    "metadata": {},
                    "output_type": "execute_result"
                }
            ],
            "source": [
                "array_of_lists = np.array(all_radii_stats) * 3.1746  # because this dataset, both pixel width and height are this number in microns\n",
                "mean_radii = array_of_lists.mean(axis=0)\n",
                "std_radii = array_of_lists.std(axis=0)\n",
                "\n",
                "refdf['radius-mean(um)'] = mean_radii\n",
                "refdf['radius-std(um)'] = std_radii\n",
                "\n",
                "refdf"
            ]
        },
        {
            "cell_type": "markdown",
            "metadata": {},
            "source": [
                "## Part 5: Radial velocity reference metrics"
            ]
        },
        {
            "cell_type": "markdown",
            "metadata": {},
            "source": [
                "**TODO:**\n",
                "\n",
                "The definition is not very clear. What is meant by maximum radial component of\n",
                "the whole track of a cell. For now leave this out."
            ]
        },
        {
            "cell_type": "markdown",
            "metadata": {},
            "source": [
                "## Part 6: Saving the reference metrics"
            ]
        },
        {
            "cell_type": "code",
            "execution_count": 53,
            "metadata": {},
            "outputs": [],
            "source": [
                "save_path = os.path.join('..', 'output', 'reference_metrics_for_'+ dataset_name + '.csv')\n",
                "refdf.to_csv(save_path, index=False)"
            ]
        }
    ],
    "metadata": {
        "kernelspec": {
            "display_name": "infectio-dataset-tools-YWFH3aF4-py3.11",
            "language": "python",
            "name": "python3"
        },
        "language_info": {
            "codemirror_mode": {
                "name": "ipython",
                "version": 3
            },
            "file_extension": ".py",
            "mimetype": "text/x-python",
            "name": "python",
            "nbconvert_exporter": "python",
            "pygments_lexer": "ipython3",
            "version": "3.11.4"
        }
    },
    "nbformat": 4,
    "nbformat_minor": 2
}
