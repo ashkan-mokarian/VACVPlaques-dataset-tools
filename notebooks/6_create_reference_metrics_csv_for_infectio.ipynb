{
    "cells": [
        {
            "cell_type": "markdown",
            "metadata": {},
            "source": [
                "# Description\n",
                "This notebook extract useful metrics from the plaques dataset or some part of\n",
                "it. It relies on trackmate results to extract this information. Three metrics\n",
                "are considered: number of infected cells, radius of the plaque, and radial\n",
                "velocity of infected cells. Only considering infected cells, because these are\n",
                "the only cells visible in the microscopy images at hand. Metrics are modeled\n",
                "using a mean and standard deviation for each point in time that there is image\n",
                "for it. Time is in hours post infection (hpi). Results are saved into a csv file\n",
                "to be used as a reference to evaluate simulations in infectio."
            ]
        },
        {
            "cell_type": "markdown",
            "metadata": {},
            "source": [
                "# Implementation"
            ]
        },
        {
            "cell_type": "markdown",
            "metadata": {},
            "source": [
                "## Part 1: choose set of files"
            ]
        },
        {
            "cell_type": "markdown",
            "metadata": {},
            "source": [
                "    \n",
                "Note: **Quick Fix**\n",
                "\n",
                "The dataset needs to be changed to be used here. Because in many of the\n",
                "of the experiments, two or more initial spots are infected and therefore center\n",
                "and radii computations are not correct. As a quick fix for now, I am considering\n",
                "only a few of the experiements that consist only of one plaque. For M061-WR\n",
                "these are: 6, 8, 9, 11, 13, 14."
            ]
        },
        {
            "cell_type": "code",
            "execution_count": 1,
            "metadata": {},
            "outputs": [
                {
                    "data": {
                        "text/plain": [
                            "['8-spots.csv',\n",
                            " '11-spots.csv',\n",
                            " '9-spots.csv',\n",
                            " '13-spots.csv',\n",
                            " '6-spots.csv',\n",
                            " '14-spots.csv']"
                        ]
                    },
                    "execution_count": 1,
                    "metadata": {},
                    "output_type": "execute_result"
                }
            ],
            "source": [
                "import os\n",
                "import pandas as pd\n",
                "import numpy as np\n",
                "\n",
                "CSV_ROOT = \"../dataset/plaques-ashkan/trackmate_output/dVGF_dF11_viruses/M061\"\n",
                "# include only files in range of 1 to 15 in their names, these are basic WR files\n",
                "# Only consider quick fix files\n",
                "single_plaque_files = [6, 8, 9, 11, 13, 14]\n",
                "csv_files = [f for f in os.listdir(CSV_ROOT) if f.endswith(\".csv\") and int(f.split(\"-\")[0]) in single_plaque_files]\n",
                "csv_files"
            ]
        },
        {
            "cell_type": "markdown",
            "metadata": {},
            "source": [
                "## Part 2: add the time stamps of the time series data"
            ]
        },
        {
            "cell_type": "code",
            "execution_count": 2,
            "metadata": {},
            "outputs": [
                {
                    "name": "stdout",
                    "output_type": "stream",
                    "text": [
                        "         t\n",
                        "0    20.00\n",
                        "1    20.17\n",
                        "2    20.33\n",
                        "3    20.50\n",
                        "4    20.67\n",
                        "..     ...\n",
                        "164  47.33\n",
                        "165  47.50\n",
                        "166  47.67\n",
                        "167  47.83\n",
                        "168  48.00\n",
                        "\n",
                        "[169 rows x 1 columns]\n"
                    ]
                }
            ],
            "source": [
                "# Because the imaging of the dataset starts with 20 h.p.i and ends 48 hpi with\n",
                "# 10 minute intervals\n",
                "time_stamps = [round(x, 2) for x in np.linspace(20.0, 48.0, 169).tolist()]\n",
                "refdf = pd.DataFrame({'t': time_stamps})\n",
                "\n",
                "print(refdf)"
            ]
        },
        {
            "cell_type": "markdown",
            "metadata": {},
            "source": [
                "## Part 3: infected count metrics"
            ]
        },
        {
            "cell_type": "code",
            "execution_count": 3,
            "metadata": {},
            "outputs": [
                {
                    "name": "stdout",
                    "output_type": "stream",
                    "text": [
                        "FRAME\n",
                        "0         7.833333\n",
                        "1         8.500000\n",
                        "2         9.166667\n",
                        "3         9.500000\n",
                        "4         9.666667\n",
                        "          ...     \n",
                        "164    1416.000000\n",
                        "165    1432.666667\n",
                        "166    1450.500000\n",
                        "167    1472.666667\n",
                        "168    1450.333333\n",
                        "Length: 169, dtype: float64 FRAME\n",
                        "0        3.920034\n",
                        "1        4.636809\n",
                        "2        4.708149\n",
                        "3        5.009990\n",
                        "4        5.202563\n",
                        "          ...    \n",
                        "164    428.224707\n",
                        "165    430.744781\n",
                        "166    435.876473\n",
                        "167    445.093099\n",
                        "168    435.813110\n",
                        "Length: 169, dtype: float64\n"
                    ]
                }
            ],
            "source": [
                "unique_track_id_counts = []\n",
                "\n",
                "for file in csv_files:\n",
                "    df = pd.read_csv(os.path.join(CSV_ROOT, file), skiprows=[1, 2, 3], low_memory=False)\n",
                "    unique_counts = df.groupby('FRAME')['TRACK_ID'].nunique()\n",
                "    unique_track_id_counts.append(unique_counts)\n",
                "\n",
                "all_counts_df = pd.concat(unique_track_id_counts, axis=1)\n",
                "\n",
                "# Calculate average and standard deviation for each frame\n",
                "average_counts = all_counts_df.mean(axis=1)\n",
                "std_dev_counts = all_counts_df.std(axis=1)\n",
                "\n",
                "print(average_counts, std_dev_counts)"
            ]
        },
        {
            "cell_type": "code",
            "execution_count": 4,
            "metadata": {},
            "outputs": [
                {
                    "data": {
                        "text/html": [
                            "<div>\n",
                            "<style scoped>\n",
                            "    .dataframe tbody tr th:only-of-type {\n",
                            "        vertical-align: middle;\n",
                            "    }\n",
                            "\n",
                            "    .dataframe tbody tr th {\n",
                            "        vertical-align: top;\n",
                            "    }\n",
                            "\n",
                            "    .dataframe thead th {\n",
                            "        text-align: right;\n",
                            "    }\n",
                            "</style>\n",
                            "<table border=\"1\" class=\"dataframe\">\n",
                            "  <thead>\n",
                            "    <tr style=\"text-align: right;\">\n",
                            "      <th></th>\n",
                            "      <th>t</th>\n",
                            "      <th>inf-count-mean</th>\n",
                            "      <th>inf-count-std</th>\n",
                            "    </tr>\n",
                            "  </thead>\n",
                            "  <tbody>\n",
                            "    <tr>\n",
                            "      <th>0</th>\n",
                            "      <td>20.00</td>\n",
                            "      <td>7.833333</td>\n",
                            "      <td>3.920034</td>\n",
                            "    </tr>\n",
                            "    <tr>\n",
                            "      <th>1</th>\n",
                            "      <td>20.17</td>\n",
                            "      <td>8.500000</td>\n",
                            "      <td>4.636809</td>\n",
                            "    </tr>\n",
                            "    <tr>\n",
                            "      <th>2</th>\n",
                            "      <td>20.33</td>\n",
                            "      <td>9.166667</td>\n",
                            "      <td>4.708149</td>\n",
                            "    </tr>\n",
                            "    <tr>\n",
                            "      <th>3</th>\n",
                            "      <td>20.50</td>\n",
                            "      <td>9.500000</td>\n",
                            "      <td>5.009990</td>\n",
                            "    </tr>\n",
                            "    <tr>\n",
                            "      <th>4</th>\n",
                            "      <td>20.67</td>\n",
                            "      <td>9.666667</td>\n",
                            "      <td>5.202563</td>\n",
                            "    </tr>\n",
                            "    <tr>\n",
                            "      <th>...</th>\n",
                            "      <td>...</td>\n",
                            "      <td>...</td>\n",
                            "      <td>...</td>\n",
                            "    </tr>\n",
                            "    <tr>\n",
                            "      <th>164</th>\n",
                            "      <td>47.33</td>\n",
                            "      <td>1416.000000</td>\n",
                            "      <td>428.224707</td>\n",
                            "    </tr>\n",
                            "    <tr>\n",
                            "      <th>165</th>\n",
                            "      <td>47.50</td>\n",
                            "      <td>1432.666667</td>\n",
                            "      <td>430.744781</td>\n",
                            "    </tr>\n",
                            "    <tr>\n",
                            "      <th>166</th>\n",
                            "      <td>47.67</td>\n",
                            "      <td>1450.500000</td>\n",
                            "      <td>435.876473</td>\n",
                            "    </tr>\n",
                            "    <tr>\n",
                            "      <th>167</th>\n",
                            "      <td>47.83</td>\n",
                            "      <td>1472.666667</td>\n",
                            "      <td>445.093099</td>\n",
                            "    </tr>\n",
                            "    <tr>\n",
                            "      <th>168</th>\n",
                            "      <td>48.00</td>\n",
                            "      <td>1450.333333</td>\n",
                            "      <td>435.813110</td>\n",
                            "    </tr>\n",
                            "  </tbody>\n",
                            "</table>\n",
                            "<p>169 rows × 3 columns</p>\n",
                            "</div>"
                        ],
                        "text/plain": [
                            "         t  inf-count-mean  inf-count-std\n",
                            "0    20.00        7.833333       3.920034\n",
                            "1    20.17        8.500000       4.636809\n",
                            "2    20.33        9.166667       4.708149\n",
                            "3    20.50        9.500000       5.009990\n",
                            "4    20.67        9.666667       5.202563\n",
                            "..     ...             ...            ...\n",
                            "164  47.33     1416.000000     428.224707\n",
                            "165  47.50     1432.666667     430.744781\n",
                            "166  47.67     1450.500000     435.876473\n",
                            "167  47.83     1472.666667     445.093099\n",
                            "168  48.00     1450.333333     435.813110\n",
                            "\n",
                            "[169 rows x 3 columns]"
                        ]
                    },
                    "execution_count": 4,
                    "metadata": {},
                    "output_type": "execute_result"
                }
            ],
            "source": [
                "# Adding count values to refdf\n",
                "refdf['inf-count-mean'] = average_counts\n",
                "refdf['inf-count-std'] = std_dev_counts\n",
                "refdf"
            ]
        },
        {
            "cell_type": "markdown",
            "metadata": {},
            "source": [
                "## Part 4: radius reference metrics"
            ]
        },
        {
            "cell_type": "code",
            "execution_count": 5,
            "metadata": {},
            "outputs": [],
            "source": [
                "from scipy.spatial import ConvexHull\n",
                "\n",
                "def get_convex_radius(points):\n",
                "    hull = ConvexHull(points)\n",
                "    boundary_points = points[hull.vertices]\n",
                "    center = np.mean(boundary_points, axis=0)\n",
                "    radii = (boundary_points - center)\n",
                "    radii = np.linalg.norm(radii, axis=1)\n",
                "    return radii.mean()"
            ]
        },
        {
            "cell_type": "code",
            "execution_count": 6,
            "metadata": {},
            "outputs": [],
            "source": [
                "all_radii_stats = []\n",
                "\n",
                "for file in csv_files:\n",
                "    df = pd.read_csv(os.path.join(CSV_ROOT, file), skiprows=[1, 2, 3], low_memory=False)\n",
                "    points_vs_frame = df.groupby('FRAME').apply(lambda x: x[['POSITION_X', 'POSITION_Y']].values)\n",
                "    radii_vs_frame = [get_convex_radius(points) for points in points_vs_frame]\n",
                "    all_radii_stats.append(radii_vs_frame)"
            ]
        },
        {
            "cell_type": "code",
            "execution_count": 7,
            "metadata": {},
            "outputs": [
                {
                    "data": {
                        "text/html": [
                            "<div>\n",
                            "<style scoped>\n",
                            "    .dataframe tbody tr th:only-of-type {\n",
                            "        vertical-align: middle;\n",
                            "    }\n",
                            "\n",
                            "    .dataframe tbody tr th {\n",
                            "        vertical-align: top;\n",
                            "    }\n",
                            "\n",
                            "    .dataframe thead th {\n",
                            "        text-align: right;\n",
                            "    }\n",
                            "</style>\n",
                            "<table border=\"1\" class=\"dataframe\">\n",
                            "  <thead>\n",
                            "    <tr style=\"text-align: right;\">\n",
                            "      <th></th>\n",
                            "      <th>t</th>\n",
                            "      <th>inf-count-mean</th>\n",
                            "      <th>inf-count-std</th>\n",
                            "      <th>radius-mean</th>\n",
                            "      <th>radius-std</th>\n",
                            "    </tr>\n",
                            "  </thead>\n",
                            "  <tbody>\n",
                            "    <tr>\n",
                            "      <th>0</th>\n",
                            "      <td>20.00</td>\n",
                            "      <td>7.833333</td>\n",
                            "      <td>3.920034</td>\n",
                            "      <td>54.996843</td>\n",
                            "      <td>17.918451</td>\n",
                            "    </tr>\n",
                            "    <tr>\n",
                            "      <th>1</th>\n",
                            "      <td>20.17</td>\n",
                            "      <td>8.500000</td>\n",
                            "      <td>4.636809</td>\n",
                            "      <td>56.996371</td>\n",
                            "      <td>19.604002</td>\n",
                            "    </tr>\n",
                            "    <tr>\n",
                            "      <th>2</th>\n",
                            "      <td>20.33</td>\n",
                            "      <td>9.166667</td>\n",
                            "      <td>4.708149</td>\n",
                            "      <td>60.686607</td>\n",
                            "      <td>23.852709</td>\n",
                            "    </tr>\n",
                            "    <tr>\n",
                            "      <th>3</th>\n",
                            "      <td>20.50</td>\n",
                            "      <td>9.500000</td>\n",
                            "      <td>5.009990</td>\n",
                            "      <td>63.331708</td>\n",
                            "      <td>23.738827</td>\n",
                            "    </tr>\n",
                            "    <tr>\n",
                            "      <th>4</th>\n",
                            "      <td>20.67</td>\n",
                            "      <td>9.666667</td>\n",
                            "      <td>5.202563</td>\n",
                            "      <td>63.977325</td>\n",
                            "      <td>24.385074</td>\n",
                            "    </tr>\n",
                            "    <tr>\n",
                            "      <th>...</th>\n",
                            "      <td>...</td>\n",
                            "      <td>...</td>\n",
                            "      <td>...</td>\n",
                            "      <td>...</td>\n",
                            "      <td>...</td>\n",
                            "    </tr>\n",
                            "    <tr>\n",
                            "      <th>164</th>\n",
                            "      <td>47.33</td>\n",
                            "      <td>1416.000000</td>\n",
                            "      <td>428.224707</td>\n",
                            "      <td>840.571072</td>\n",
                            "      <td>97.550748</td>\n",
                            "    </tr>\n",
                            "    <tr>\n",
                            "      <th>165</th>\n",
                            "      <td>47.50</td>\n",
                            "      <td>1432.666667</td>\n",
                            "      <td>430.744781</td>\n",
                            "      <td>876.613643</td>\n",
                            "      <td>73.662099</td>\n",
                            "    </tr>\n",
                            "    <tr>\n",
                            "      <th>166</th>\n",
                            "      <td>47.67</td>\n",
                            "      <td>1450.500000</td>\n",
                            "      <td>435.876473</td>\n",
                            "      <td>895.035585</td>\n",
                            "      <td>67.964300</td>\n",
                            "    </tr>\n",
                            "    <tr>\n",
                            "      <th>167</th>\n",
                            "      <td>47.83</td>\n",
                            "      <td>1472.666667</td>\n",
                            "      <td>445.093099</td>\n",
                            "      <td>894.964754</td>\n",
                            "      <td>65.487875</td>\n",
                            "    </tr>\n",
                            "    <tr>\n",
                            "      <th>168</th>\n",
                            "      <td>48.00</td>\n",
                            "      <td>1450.333333</td>\n",
                            "      <td>435.813110</td>\n",
                            "      <td>899.344951</td>\n",
                            "      <td>68.837207</td>\n",
                            "    </tr>\n",
                            "  </tbody>\n",
                            "</table>\n",
                            "<p>169 rows × 5 columns</p>\n",
                            "</div>"
                        ],
                        "text/plain": [
                            "         t  inf-count-mean  inf-count-std  radius-mean  radius-std\n",
                            "0    20.00        7.833333       3.920034    54.996843   17.918451\n",
                            "1    20.17        8.500000       4.636809    56.996371   19.604002\n",
                            "2    20.33        9.166667       4.708149    60.686607   23.852709\n",
                            "3    20.50        9.500000       5.009990    63.331708   23.738827\n",
                            "4    20.67        9.666667       5.202563    63.977325   24.385074\n",
                            "..     ...             ...            ...          ...         ...\n",
                            "164  47.33     1416.000000     428.224707   840.571072   97.550748\n",
                            "165  47.50     1432.666667     430.744781   876.613643   73.662099\n",
                            "166  47.67     1450.500000     435.876473   895.035585   67.964300\n",
                            "167  47.83     1472.666667     445.093099   894.964754   65.487875\n",
                            "168  48.00     1450.333333     435.813110   899.344951   68.837207\n",
                            "\n",
                            "[169 rows x 5 columns]"
                        ]
                    },
                    "execution_count": 7,
                    "metadata": {},
                    "output_type": "execute_result"
                }
            ],
            "source": [
                "array_of_lists = np.array(all_radii_stats)\n",
                "mean_radii = array_of_lists.mean(axis=0)\n",
                "std_radii = array_of_lists.std(axis=0)\n",
                "\n",
                "refdf['radius-mean'] = mean_radii\n",
                "refdf['radius-std'] = std_radii\n",
                "\n",
                "refdf"
            ]
        },
        {
            "cell_type": "markdown",
            "metadata": {},
            "source": [
                "## Part 5: Radial velocity reference metrics"
            ]
        },
        {
            "cell_type": "markdown",
            "metadata": {},
            "source": [
                "**TODO:**\n",
                "\n",
                "The definition is not very clear. What is meant by maximum radial component of\n",
                "the whole track of a cell. For now leave this out."
            ]
        },
        {
            "cell_type": "markdown",
            "metadata": {},
            "source": [
                "## Part 6: Saving the reference metrics"
            ]
        },
        {
            "cell_type": "code",
            "execution_count": 8,
            "metadata": {},
            "outputs": [],
            "source": [
                "dataset_name = 'M061_WR_handpicked'\n",
                "save_path = os.path.join('..', 'output', 'reference_metrics_for_'+ dataset_name + '.csv')\n",
                "refdf.to_csv(save_path, index=False)"
            ]
        }
    ],
    "metadata": {
        "kernelspec": {
            "display_name": "infectio-dataset-tools-YWFH3aF4-py3.11",
            "language": "python",
            "name": "python3"
        },
        "language_info": {
            "codemirror_mode": {
                "name": "ipython",
                "version": 3
            },
            "file_extension": ".py",
            "mimetype": "text/x-python",
            "name": "python",
            "nbconvert_exporter": "python",
            "pygments_lexer": "ipython3",
            "version": "3.11.4"
        }
    },
    "nbformat": 4,
    "nbformat_minor": 2
}
