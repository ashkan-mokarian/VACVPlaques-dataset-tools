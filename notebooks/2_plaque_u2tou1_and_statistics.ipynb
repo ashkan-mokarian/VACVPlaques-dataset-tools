{
 "cells": [
  {
   "cell_type": "markdown",
   "metadata": {},
   "source": [
    "# TODO: make all data preparation steps into one step. now fiji creates the one\n",
    "channel uint16 images and this one transforms them to uint8. merge both into one.\n",
    "\n",
    "This notebook is used to convert uint16 tiff file images of the original dataset\n",
    "to uint8, such that it is scaled accordingly (because the original uint16 images\n",
    "have much smaller range than 0-65###)."
   ]
  },
  {
   "cell_type": "code",
   "execution_count": 2,
   "metadata": {},
   "outputs": [],
   "source": [
    "import os\n",
    "import shutil\n",
    "import tifffile\n",
    "import numpy as np\n",
    "import cv2"
   ]
  },
  {
   "cell_type": "code",
   "execution_count": 26,
   "metadata": {},
   "outputs": [],
   "source": [
    "tif_folder = \"../dataset/plaques-ashkan/dVGF_dF11_viruses/train/\"\n",
    "output_folder = \"../dataset/plaques-ashkan/dVGF_dF11_viruses/train2\""
   ]
  },
  {
   "cell_type": "code",
   "execution_count": 27,
   "metadata": {},
   "outputs": [
    {
     "name": "stdout",
     "output_type": "stream",
     "text": [
      "['M061_57.tif', 'M061_43.tif', 'M061_42.tif', 'M061_56.tif', 'M061_40.tif', 'M061_54.tif', 'M061_55.tif', 'M061_41.tif', 'M061_51.tif', 'M061_50.tif', 'M061_8.tif', 'M061_52.tif', 'M061_46.tif', 'M061_47.tif', 'M061_53.tif', 'M061_9.tif', 'M061_34.tif', 'M061_20.tif', 'M061_21.tif', 'M061_35.tif', 'M061_23.tif', 'M061_37.tif', 'M061_36.tif', 'M061_22.tif', 'M061_26.tif', 'M061_32.tif', 'M061_33.tif', 'M061_27.tif', 'M061_19.tif', 'M061_31.tif', 'M061_25.tif', 'M061_24.tif', 'M061_18.tif', 'M061_28.tif', 'M061_16.tif', 'M061_17.tif', 'M061_13.tif', 'M061_12.tif', 'M061_38.tif', 'M061_10.tif', 'M061_11.tif', 'M061_39.tif', 'M061_4.tif', 'M061_5.tif', 'M061_7.tif', 'M061_49.tif', 'M061_48.tif', 'M061_6.tif', 'M061_2.tif', 'M061_58.tif', 'M061_3.tif', 'M061_1.tif']\n"
     ]
    }
   ],
   "source": [
    "tif_files = [f for f in os.listdir(tif_folder) if f.endswith('.tif')]\n",
    "print(tif_files)\n",
    "# print(len(tif_files))"
   ]
  },
  {
   "cell_type": "code",
   "execution_count": 23,
   "metadata": {},
   "outputs": [],
   "source": [
    "\n",
    "def normalize_tif_stack(tif_file):\n",
    "    tif_stack= tifffile.imread(os.path.join(tif_folder, tif_file))\n",
    "    normalize_stack = cv2.normalize(tif_stack, None, 0, 255, cv2.NORM_MINMAX, dtype=cv2.CV_8U)\n",
    "    tifffile.imwrite(os.path.join(output_folder, tif_file), normalize_stack)"
   ]
  },
  {
   "cell_type": "code",
   "execution_count": 28,
   "metadata": {},
   "outputs": [
    {
     "name": "stdout",
     "output_type": "stream",
     "text": [
      "normalizing:  M061_57.tif - writing in:  ../dataset/plaques-ashkan/dVGF_dF11_viruses/train2\n",
      "normalizing:  M061_43.tif - writing in:  ../dataset/plaques-ashkan/dVGF_dF11_viruses/train2\n",
      "normalizing:  M061_42.tif - writing in:  ../dataset/plaques-ashkan/dVGF_dF11_viruses/train2\n",
      "normalizing:  M061_56.tif - writing in:  ../dataset/plaques-ashkan/dVGF_dF11_viruses/train2\n",
      "normalizing:  M061_40.tif - writing in:  ../dataset/plaques-ashkan/dVGF_dF11_viruses/train2\n",
      "normalizing:  M061_54.tif - writing in:  ../dataset/plaques-ashkan/dVGF_dF11_viruses/train2\n",
      "normalizing:  M061_55.tif - writing in:  ../dataset/plaques-ashkan/dVGF_dF11_viruses/train2\n",
      "normalizing:  M061_41.tif - writing in:  ../dataset/plaques-ashkan/dVGF_dF11_viruses/train2\n",
      "normalizing:  M061_51.tif - writing in:  ../dataset/plaques-ashkan/dVGF_dF11_viruses/train2\n",
      "normalizing:  M061_50.tif - writing in:  ../dataset/plaques-ashkan/dVGF_dF11_viruses/train2\n",
      "normalizing:  M061_8.tif - writing in:  ../dataset/plaques-ashkan/dVGF_dF11_viruses/train2\n",
      "normalizing:  M061_52.tif - writing in:  ../dataset/plaques-ashkan/dVGF_dF11_viruses/train2\n",
      "normalizing:  M061_46.tif - writing in:  ../dataset/plaques-ashkan/dVGF_dF11_viruses/train2\n",
      "normalizing:  M061_47.tif - writing in:  ../dataset/plaques-ashkan/dVGF_dF11_viruses/train2\n",
      "normalizing:  M061_53.tif - writing in:  ../dataset/plaques-ashkan/dVGF_dF11_viruses/train2\n",
      "normalizing:  M061_9.tif - writing in:  ../dataset/plaques-ashkan/dVGF_dF11_viruses/train2\n",
      "normalizing:  M061_34.tif - writing in:  ../dataset/plaques-ashkan/dVGF_dF11_viruses/train2\n",
      "normalizing:  M061_20.tif - writing in:  ../dataset/plaques-ashkan/dVGF_dF11_viruses/train2\n",
      "normalizing:  M061_21.tif - writing in:  ../dataset/plaques-ashkan/dVGF_dF11_viruses/train2\n",
      "normalizing:  M061_35.tif - writing in:  ../dataset/plaques-ashkan/dVGF_dF11_viruses/train2\n",
      "normalizing:  M061_23.tif - writing in:  ../dataset/plaques-ashkan/dVGF_dF11_viruses/train2\n",
      "normalizing:  M061_37.tif - writing in:  ../dataset/plaques-ashkan/dVGF_dF11_viruses/train2\n",
      "normalizing:  M061_36.tif - writing in:  ../dataset/plaques-ashkan/dVGF_dF11_viruses/train2\n",
      "normalizing:  M061_22.tif - writing in:  ../dataset/plaques-ashkan/dVGF_dF11_viruses/train2\n",
      "normalizing:  M061_26.tif - writing in:  ../dataset/plaques-ashkan/dVGF_dF11_viruses/train2\n",
      "normalizing:  M061_32.tif - writing in:  ../dataset/plaques-ashkan/dVGF_dF11_viruses/train2\n",
      "normalizing:  M061_33.tif - writing in:  ../dataset/plaques-ashkan/dVGF_dF11_viruses/train2\n",
      "normalizing:  M061_27.tif - writing in:  ../dataset/plaques-ashkan/dVGF_dF11_viruses/train2\n",
      "normalizing:  M061_19.tif - writing in:  ../dataset/plaques-ashkan/dVGF_dF11_viruses/train2\n",
      "normalizing:  M061_31.tif - writing in:  ../dataset/plaques-ashkan/dVGF_dF11_viruses/train2\n",
      "normalizing:  M061_25.tif - writing in:  ../dataset/plaques-ashkan/dVGF_dF11_viruses/train2\n",
      "normalizing:  M061_24.tif - writing in:  ../dataset/plaques-ashkan/dVGF_dF11_viruses/train2\n",
      "normalizing:  M061_18.tif - writing in:  ../dataset/plaques-ashkan/dVGF_dF11_viruses/train2\n",
      "normalizing:  M061_28.tif - writing in:  ../dataset/plaques-ashkan/dVGF_dF11_viruses/train2\n",
      "normalizing:  M061_16.tif - writing in:  ../dataset/plaques-ashkan/dVGF_dF11_viruses/train2\n",
      "normalizing:  M061_17.tif - writing in:  ../dataset/plaques-ashkan/dVGF_dF11_viruses/train2\n",
      "normalizing:  M061_13.tif - writing in:  ../dataset/plaques-ashkan/dVGF_dF11_viruses/train2\n",
      "normalizing:  M061_12.tif - writing in:  ../dataset/plaques-ashkan/dVGF_dF11_viruses/train2\n",
      "normalizing:  M061_38.tif - writing in:  ../dataset/plaques-ashkan/dVGF_dF11_viruses/train2\n",
      "normalizing:  M061_10.tif - writing in:  ../dataset/plaques-ashkan/dVGF_dF11_viruses/train2\n",
      "normalizing:  M061_11.tif - writing in:  ../dataset/plaques-ashkan/dVGF_dF11_viruses/train2\n",
      "normalizing:  M061_39.tif - writing in:  ../dataset/plaques-ashkan/dVGF_dF11_viruses/train2\n",
      "normalizing:  M061_4.tif - writing in:  ../dataset/plaques-ashkan/dVGF_dF11_viruses/train2\n",
      "normalizing:  M061_5.tif - writing in:  ../dataset/plaques-ashkan/dVGF_dF11_viruses/train2\n",
      "normalizing:  M061_7.tif - writing in:  ../dataset/plaques-ashkan/dVGF_dF11_viruses/train2\n",
      "normalizing:  M061_49.tif - writing in:  ../dataset/plaques-ashkan/dVGF_dF11_viruses/train2\n",
      "normalizing:  M061_48.tif - writing in:  ../dataset/plaques-ashkan/dVGF_dF11_viruses/train2\n",
      "normalizing:  M061_6.tif - writing in:  ../dataset/plaques-ashkan/dVGF_dF11_viruses/train2\n",
      "normalizing:  M061_2.tif - writing in:  ../dataset/plaques-ashkan/dVGF_dF11_viruses/train2\n",
      "normalizing:  M061_58.tif - writing in:  ../dataset/plaques-ashkan/dVGF_dF11_viruses/train2\n",
      "normalizing:  M061_3.tif - writing in:  ../dataset/plaques-ashkan/dVGF_dF11_viruses/train2\n",
      "normalizing:  M061_1.tif - writing in:  ../dataset/plaques-ashkan/dVGF_dF11_viruses/train2\n"
     ]
    }
   ],
   "source": [
    "import os\n",
    "for f in tif_files:\n",
    "    print(\"normalizing: \", f, \"- writing in: \", output_folder)\n",
    "    normalize_tif_stack(f)"
   ]
  },
  {
   "cell_type": "code",
   "execution_count": 6,
   "metadata": {},
   "outputs": [
    {
     "name": "stdout",
     "output_type": "stream",
     "text": [
      "average mean:  0.04187034196438773\n",
      "average stddev:  0.015593701853974894\n"
     ]
    }
   ],
   "source": [
    "train_dir = \"../dataset/plaques-ashkan/dVGF_dF11_viruses/train/\"\n",
    "mean = 0\n",
    "stddev = 0\n",
    "files = [f for f in os.listdir(train_dir) if f.endswith(\".tif\")]\n",
    "for f in files:\n",
    "    img = tifffile.imread(train_dir + f) / 255.0  # normalize to [0,1] as in tensors\n",
    "    mean += img.mean()\n",
    "    stddev += img.std()\n",
    "print(\"average mean: \", mean / len(files))\n",
    "print(\"average stddev: \", stddev / len(files))\n"
   ]
  }
 ],
 "metadata": {
  "kernelspec": {
   "display_name": "infectio-dataset-tools-vlYoyBSt-py3.11",
   "language": "python",
   "name": "python3"
  },
  "language_info": {
   "codemirror_mode": {
    "name": "ipython",
    "version": 3
   },
   "file_extension": ".py",
   "mimetype": "text/x-python",
   "name": "python",
   "nbconvert_exporter": "python",
   "pygments_lexer": "ipython3",
   "version": "3.11.4"
  },
  "orig_nbformat": 4
 },
 "nbformat": 4,
 "nbformat_minor": 2
}
