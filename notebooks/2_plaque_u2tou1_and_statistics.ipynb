{
 "cells": [
  {
   "cell_type": "markdown",
   "metadata": {},
   "source": [
    "# TODO: make all data preparation steps into one step. now fiji creates the one\n",
    "channel uint16 images and this one transforms them to uint8. merge both into one.\n",
    "\n",
    "This notebook is used to convert uint16 tiff file images of the original dataset\n",
    "to uint8, such that it is scaled accordingly (because the original uint16 images\n",
    "have much smaller range than 0-65###)."
   ]
  },
  {
   "cell_type": "code",
   "execution_count": 1,
   "metadata": {},
   "outputs": [],
   "source": [
    "import os\n",
    "import shutil\n",
    "import tifffile\n",
    "import numpy as np\n",
    "import cv2"
   ]
  },
  {
   "cell_type": "code",
   "execution_count": 9,
   "metadata": {},
   "outputs": [],
   "source": [
    "tif_folder = \"../dataset/plaques-ashkan/dVGF_dF11_viruses/train/\"\n",
    "output_folder = \"../dataset/plaques-ashkan/dVGF_dF11_viruses/train2\""
   ]
  },
  {
   "cell_type": "code",
   "execution_count": 10,
   "metadata": {},
   "outputs": [
    {
     "name": "stdout",
     "output_type": "stream",
     "text": [
      "['M061_45.tif', 'M061_44.tif', 'M061_30.tif', 'M061_15.tif', 'M061_29.tif', 'M061_14.tif', 'M061_60.tif', 'M061_59.tif']\n"
     ]
    }
   ],
   "source": [
    "tif_files = [f for f in os.listdir(tif_folder) if f.endswith('.tif')]\n",
    "print(tif_files)\n",
    "# print(len(tif_files))"
   ]
  },
  {
   "cell_type": "code",
   "execution_count": 23,
   "metadata": {},
   "outputs": [],
   "source": [
    "\n",
    "def normalize_tif_stack(tif_file):\n",
    "    tif_stack= tifffile.imread(os.path.join(tif_folder, tif_file))\n",
    "    normalize_stack = cv2.normalize(tif_stack, None, 0, 255, cv2.NORM_MINMAX, dtype=cv2.CV_8U)\n",
    "    tifffile.imwrite(os.path.join(output_folder, tif_file), normalize_stack)"
   ]
  },
  {
   "cell_type": "code",
   "execution_count": 25,
   "metadata": {},
   "outputs": [
    {
     "name": "stdout",
     "output_type": "stream",
     "text": [
      "normalizing:  M061_45.tif - writing in:  ../dataset/plaques-ashkan/dVGF_dF11_viruses/val2\n",
      "normalizing:  M061_44.tif - writing in:  ../dataset/plaques-ashkan/dVGF_dF11_viruses/val2\n",
      "normalizing:  M061_30.tif - writing in:  ../dataset/plaques-ashkan/dVGF_dF11_viruses/val2\n",
      "normalizing:  M061_15.tif - writing in:  ../dataset/plaques-ashkan/dVGF_dF11_viruses/val2\n",
      "normalizing:  M061_29.tif - writing in:  ../dataset/plaques-ashkan/dVGF_dF11_viruses/val2\n",
      "normalizing:  M061_14.tif - writing in:  ../dataset/plaques-ashkan/dVGF_dF11_viruses/val2\n",
      "normalizing:  M061_60.tif - writing in:  ../dataset/plaques-ashkan/dVGF_dF11_viruses/val2\n",
      "normalizing:  M061_59.tif - writing in:  ../dataset/plaques-ashkan/dVGF_dF11_viruses/val2\n"
     ]
    }
   ],
   "source": [
    "import os\n",
    "for f in tif_files:\n",
    "    print(\"normalizing: \", f, \"- writing in: \", output_folder)\n",
    "    normalize_tif_stack(f)"
   ]
  }
 ],
 "metadata": {
  "kernelspec": {
   "display_name": "infectio-dataset-tools-vlYoyBSt-py3.11",
   "language": "python",
   "name": "python3"
  },
  "language_info": {
   "codemirror_mode": {
    "name": "ipython",
    "version": 3
   },
   "file_extension": ".py",
   "mimetype": "text/x-python",
   "name": "python",
   "nbconvert_exporter": "python",
   "pygments_lexer": "ipython3",
   "version": "3.11.4"
  },
  "orig_nbformat": 4
 },
 "nbformat": 4,
 "nbformat_minor": 2
}
