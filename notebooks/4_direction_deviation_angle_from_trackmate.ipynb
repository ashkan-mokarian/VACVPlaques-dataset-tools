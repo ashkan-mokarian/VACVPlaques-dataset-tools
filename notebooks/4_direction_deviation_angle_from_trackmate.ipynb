{
 "cells": [
  {
   "cell_type": "markdown",
   "metadata": {},
   "source": [
    "# Description\n",
    "Investigate randomness of movement of infected cells based on trackmate results.\n",
    "\n",
    "In Infectio, the direction of movement of infected cells in opposite direction\n",
    "of VGF gradient is changed by rotating the direction with an angle samples from\n",
    "a normal distribution, to model the randomness.\n",
    "\n",
    "Here, this angle is investigated, to obtain good estimates for the normal\n",
    "distribution model. Since we do not know the VGF gradient direction (deterministic\n",
    "factor of the direction), the average over a window is considered. Here, the 1 frame\n",
    "direction is compared versus some average movement direction e.g. window size 5 and 10.\n"
   ]
  },
  {
   "cell_type": "code",
   "execution_count": 2,
   "metadata": {},
   "outputs": [],
   "source": [
    "import pandas as pd\n",
    "import numpy as np\n",
    "\n",
    "def angles_backwarddif_vs_windowedcentraldif(csv_files, half_window=3):\n",
    "    \"\"\"angle between the frame direction (direction from previous frame to current frame) \n",
    "    and a longer horizon direction defined by the two window parameters extracted\n",
    "    from the list of trackamte csv files.\"\"\"\n",
    "    # Read the csv data in csv_files and only keep a selection of columns. Also add\n",
    "    # the number of in the file name to the TRACK_ID column with - in between\n",
    "    dfs = []\n",
    "    keep_cols = [\"POSITION_X\", \"POSITION_Y\", \"FRAME\", \"TRACK_ID\"]\n",
    "    for f in csv_files:\n",
    "        df = pd.read_csv(f, skiprows=[1, 2, 3], low_memory=False)\n",
    "        df[\"TRACK_ID\"] = f.split(\"/\")[-1].split(\"-\")[0] + '_' + df['TRACK_ID'].astype(str)\n",
    "        df = df[keep_cols]\n",
    "        dfs.append(df)\n",
    "\n",
    "    df = pd.concat(dfs, ignore_index=True)\n",
    "\n",
    "    # Add column to it called INF_TIME that for each track id finds the one with the\n",
    "    # lowest frame number and substracts this from the frame number for all entries\n",
    "    # with the same TRACK_ID\n",
    "    df[\"INF_TIME\"] = df[\"FRAME\"] - df.groupby(\"TRACK_ID\")[\"FRAME\"].transform(min)\n",
    "\n",
    "    # Create new column called FORWARD_DIF_X that subtracks the value of POSITION_X\n",
    "    # with the value for the entry with same TRACK_ID but INF_TIME-1 (if INF_TIME is\n",
    "    # 0 then just put 0 in it)\n",
    "    df.sort_values(by=[\"TRACK_ID\", \"INF_TIME\"], inplace=True)\n",
    "    df[\"BACKWARD_DIF_X\"] = df.groupby(\"TRACK_ID\")[\"POSITION_X\"].diff().fillna(0)  # diff does the forward difference\n",
    "    df[\"BACKWARD_DIF_Y\"] = df.groupby(\"TRACK_ID\")[\"POSITION_Y\"].diff().fillna(0)\n",
    "\n",
    "    grouped = df.groupby(\"TRACK_ID\")\n",
    "    df[\"CENTRAL_DIF_X\"] = np.nan\n",
    "    df[\"CENTRAL_DIF_Y\"] = np.nan\n",
    "\n",
    "    HALF_WINDOW = half_window\n",
    "\n",
    "    for _, group in grouped:\n",
    "        sorted_group = group.sort_values(by=\"INF_TIME\")\n",
    "        value_x = (\n",
    "            sorted_group[\"POSITION_X\"].values[2 * HALF_WINDOW + 1:] -\n",
    "            sorted_group[\"POSITION_X\"].values[:-2 * HALF_WINDOW - 1]\n",
    "        )\n",
    "        value_y = (\n",
    "            sorted_group[\"POSITION_Y\"].values[2 * HALF_WINDOW + 1:] -\n",
    "            sorted_group[\"POSITION_Y\"].values[:-2 * HALF_WINDOW - 1]\n",
    "        )\n",
    "        df.loc[sorted_group.index[HALF_WINDOW + 1:-HALF_WINDOW], \"CENTRAL_DIF_X\"] = value_x\n",
    "        df.loc[sorted_group.index[HALF_WINDOW + 1:-HALF_WINDOW], \"CENTRAL_DIF_Y\"] = value_y\n",
    "    \n",
    "    angles = np.arctan2(df['CENTRAL_DIF_Y'] * df['BACKWARD_DIF_X'] - df['CENTRAL_DIF_X'] * df['BACKWARD_DIF_Y'],\n",
    "                    df['CENTRAL_DIF_X'] * df['BACKWARD_DIF_X'] + df['CENTRAL_DIF_Y'] * df['BACKWARD_DIF_Y'])\n",
    "    return angles"
   ]
  },
  {
   "cell_type": "code",
   "execution_count": 7,
   "metadata": {},
   "outputs": [
    {
     "name": "stdout",
     "output_type": "stream",
     "text": [
      "['../dataset/plaques-ashkan/trackmate_output/dVGF_dF11_viruses/M061/5-spots.csv', '../dataset/plaques-ashkan/trackmate_output/dVGF_dF11_viruses/M061/8-spots.csv', '../dataset/plaques-ashkan/trackmate_output/dVGF_dF11_viruses/M061/3-spots.csv', '../dataset/plaques-ashkan/trackmate_output/dVGF_dF11_viruses/M061/11-spots.csv', '../dataset/plaques-ashkan/trackmate_output/dVGF_dF11_viruses/M061/4-spots.csv', '../dataset/plaques-ashkan/trackmate_output/dVGF_dF11_viruses/M061/9-spots.csv', '../dataset/plaques-ashkan/trackmate_output/dVGF_dF11_viruses/M061/2-spots.csv', '../dataset/plaques-ashkan/trackmate_output/dVGF_dF11_viruses/M061/10-spots.csv', '../dataset/plaques-ashkan/trackmate_output/dVGF_dF11_viruses/M061/7-spots.csv', '../dataset/plaques-ashkan/trackmate_output/dVGF_dF11_viruses/M061/15-spots.csv', '../dataset/plaques-ashkan/trackmate_output/dVGF_dF11_viruses/M061/1-spots.csv', '../dataset/plaques-ashkan/trackmate_output/dVGF_dF11_viruses/M061/13-spots.csv', '../dataset/plaques-ashkan/trackmate_output/dVGF_dF11_viruses/M061/6-spots.csv', '../dataset/plaques-ashkan/trackmate_output/dVGF_dF11_viruses/M061/14-spots.csv', '../dataset/plaques-ashkan/trackmate_output/dVGF_dF11_viruses/M061/12-spots.csv']\n"
     ]
    }
   ],
   "source": [
    "import os\n",
    "\n",
    "CSV_ROOT = \"../dataset/plaques-ashkan/trackmate_output/dVGF_dF11_viruses/M061\"\n",
    "csv_files_wr = [os.path.join(CSV_ROOT, f) for f in os.listdir(CSV_ROOT) if f.endswith(\".csv\") and int(f.split(\"-\")[0]) in range(1, 16)]\n",
    "print(csv_files_wr)\n",
    "angles_wr_1 = angles_backwarddif_vs_windowedcentraldif(csv_files_wr, half_window=1)\n",
    "angles_wr_3 = angles_backwarddif_vs_windowedcentraldif(csv_files_wr, half_window=3)\n",
    "angles_wr_5 = angles_backwarddif_vs_windowedcentraldif(csv_files_wr, half_window=5)"
   ]
  },
  {
   "cell_type": "code",
   "execution_count": 8,
   "metadata": {},
   "outputs": [
    {
     "name": "stdout",
     "output_type": "stream",
     "text": [
      "62.050999698742686\n",
      "66.55804121066753\n",
      "69.22544047080402\n"
     ]
    },
    {
     "data": {
      "image/png": "[encoded data removed]",
      "text/plain": [
       "<Figure size 640x480 with 1 Axes>"
      ]
     },
     "metadata": {},
     "output_type": "display_data"
    }
   ],
   "source": [
    "from matplotlib import pyplot as plt\n",
    "\n",
    "plt.hist(np.degrees(angles_wr_3), bins=50, edgecolor='black');\n",
    "print(np.degrees(angles_wr_1).std())\n",
    "print(np.degrees(angles_wr_3).std())\n",
    "print(np.degrees(angles_wr_5).std())"
   ]
  },
  {
   "cell_type": "markdown",
   "metadata": {},
   "source": [
    "# Conclusion\n",
    "Not as I'd hoped. std too large and not so much noise."
   ]
  }
 ],
 "metadata": {
  "kernelspec": {
   "display_name": "infectio-dataset-tools-YWFH3aF4-py3.11",
   "language": "python",
   "name": "python3"
  },
  "language_info": {
   "codemirror_mode": {
    "name": "ipython",
    "version": 3
   },
   "file_extension": ".py",
   "mimetype": "text/x-python",
   "name": "python",
   "nbconvert_exporter": "python",
   "pygments_lexer": "ipython3",
   "version": "3.11.4"
  },
  "orig_nbformat": 4
 },
 "nbformat": 4,
 "nbformat_minor": 2
}
